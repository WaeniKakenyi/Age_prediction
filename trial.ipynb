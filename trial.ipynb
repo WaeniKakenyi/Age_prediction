{
 "cells": [
  {
   "attachments": {},
   "cell_type": "markdown",
   "metadata": {},
   "source": [
    "## Data Understanding"
   ]
  },
  {
   "cell_type": "code",
   "execution_count": 55,
   "metadata": {},
   "outputs": [],
   "source": [
    "#importing libraries\n",
    "import os \n",
    "import cv2\n",
    "import shutil\n",
    "import numpy as np\n",
    "import pandas as pd\n",
    "import matplotlib.pyplot as plt\n",
    "from matplotlib.patches import Patch\n",
    "import seaborn as sns\n",
    "from tqdm import tqdm\n",
    "import tensorflow as tf\n",
    "from tensorflow import keras\n",
    "from keras.utils import image_dataset_from_directory\n",
    "%matplotlib inline  "
   ]
  },
  {
   "cell_type": "code",
   "execution_count": 56,
   "metadata": {},
   "outputs": [],
   "source": [
    "# Load the dataset\n",
    "dataset_folder = r\"data/UTKFace/\""
   ]
  },
  {
   "cell_type": "code",
   "execution_count": 57,
   "metadata": {},
   "outputs": [
    {
     "name": "stderr",
     "output_type": "stream",
     "text": [
      "100%|██████████| 9780/9780 [00:00<00:00, 47886.00it/s]\n"
     ]
    }
   ],
   "source": [
    "image_paths = []\n",
    "age_labels = []\n",
    "gender_labels = []\n",
    "race_labels= []\n",
    "\n",
    "for filename in tqdm(os.listdir(dataset_folder)):\n",
    "    image_path = os.path.join(dataset_folder, filename)\n",
    "    file_name = os.path.split(image_path)[1]\n",
    "    temp = filename.split('_')\n",
    "    age = temp[0]\n",
    "    gender = temp[1]\n",
    "    race = temp[2]\n",
    "    image_paths.append(file_name)\n",
    "    age_labels.append(age)\n",
    "    gender_labels.append(gender)\n",
    "    race_labels.append(race)"
   ]
  },
  {
   "cell_type": "code",
   "execution_count": 58,
   "metadata": {},
   "outputs": [
    {
     "data": {
      "text/html": [
       "<div>\n",
       "<style scoped>\n",
       "    .dataframe tbody tr th:only-of-type {\n",
       "        vertical-align: middle;\n",
       "    }\n",
       "\n",
       "    .dataframe tbody tr th {\n",
       "        vertical-align: top;\n",
       "    }\n",
       "\n",
       "    .dataframe thead th {\n",
       "        text-align: right;\n",
       "    }\n",
       "</style>\n",
       "<table border=\"1\" class=\"dataframe\">\n",
       "  <thead>\n",
       "    <tr style=\"text-align: right;\">\n",
       "      <th></th>\n",
       "      <th>image</th>\n",
       "      <th>age</th>\n",
       "      <th>gender</th>\n",
       "      <th>race</th>\n",
       "    </tr>\n",
       "  </thead>\n",
       "  <tbody>\n",
       "    <tr>\n",
       "      <th>0</th>\n",
       "      <td>100_1_0_20170110183726390.jpg.chip.jpg</td>\n",
       "      <td>100</td>\n",
       "      <td>1</td>\n",
       "      <td>0</td>\n",
       "    </tr>\n",
       "    <tr>\n",
       "      <th>1</th>\n",
       "      <td>100_1_2_20170105174847679.jpg.chip.jpg</td>\n",
       "      <td>100</td>\n",
       "      <td>1</td>\n",
       "      <td>2</td>\n",
       "    </tr>\n",
       "    <tr>\n",
       "      <th>2</th>\n",
       "      <td>101_1_2_20170105174739309.jpg.chip.jpg</td>\n",
       "      <td>101</td>\n",
       "      <td>1</td>\n",
       "      <td>2</td>\n",
       "    </tr>\n",
       "    <tr>\n",
       "      <th>3</th>\n",
       "      <td>10_0_0_20161220222308131.jpg.chip.jpg</td>\n",
       "      <td>10</td>\n",
       "      <td>0</td>\n",
       "      <td>0</td>\n",
       "    </tr>\n",
       "    <tr>\n",
       "      <th>4</th>\n",
       "      <td>10_0_0_20170103200329407.jpg.chip.jpg</td>\n",
       "      <td>10</td>\n",
       "      <td>0</td>\n",
       "      <td>0</td>\n",
       "    </tr>\n",
       "  </tbody>\n",
       "</table>\n",
       "</div>"
      ],
      "text/plain": [
       "                                    image  age gender race\n",
       "0  100_1_0_20170110183726390.jpg.chip.jpg  100      1    0\n",
       "1  100_1_2_20170105174847679.jpg.chip.jpg  100      1    2\n",
       "2  101_1_2_20170105174739309.jpg.chip.jpg  101      1    2\n",
       "3   10_0_0_20161220222308131.jpg.chip.jpg   10      0    0\n",
       "4   10_0_0_20170103200329407.jpg.chip.jpg   10      0    0"
      ]
     },
     "execution_count": 58,
     "metadata": {},
     "output_type": "execute_result"
    }
   ],
   "source": [
    "# Creating a dataframe for the images,ages,genders and races\n",
    "df = pd.DataFrame()\n",
    "df['image'], df['age'], df['gender'],df[\"race\"] = image_paths, age_labels, gender_labels, race_labels\n",
    "df.head()"
   ]
  },
  {
   "cell_type": "code",
   "execution_count": 59,
   "metadata": {},
   "outputs": [],
   "source": [
    "class DataUnderstanding:\n",
    "    \"\"\"This is a class that does basic data understanding\"\"\"\n",
    "    def __init__(self, df):\n",
    "        self.df = df\n",
    "        self.shape = \"The shape is: {} with {} records and {} columns\".format(df.shape,df.shape[0],df.shape[1])\n",
    "        self.info = df.info\n",
    "        self.duplicates = \"There are {} duplicates in the dataframe\".format(df.duplicated().sum())\n",
    "        self.missing = df.isna().sum()\n",
    "        self.types = df.dtypes\n",
    "    def counts(self, col, df=df):\n",
    "        self.value_counts = df[col].value_counts()\n",
    "        return self.value_counts\n",
    "        \n"
   ]
  },
  {
   "cell_type": "code",
   "execution_count": 60,
   "metadata": {},
   "outputs": [],
   "source": [
    "# Initialize the class\n",
    "data_und = DataUnderstanding(df)"
   ]
  },
  {
   "attachments": {},
   "cell_type": "markdown",
   "metadata": {},
   "source": [
    "### General info about the dataframe"
   ]
  },
  {
   "cell_type": "code",
   "execution_count": 61,
   "metadata": {},
   "outputs": [
    {
     "name": "stdout",
     "output_type": "stream",
     "text": [
      "<class 'pandas.core.frame.DataFrame'>\n",
      "RangeIndex: 9780 entries, 0 to 9779\n",
      "Data columns (total 4 columns):\n",
      " #   Column  Non-Null Count  Dtype \n",
      "---  ------  --------------  ----- \n",
      " 0   image   9780 non-null   object\n",
      " 1   age     9780 non-null   object\n",
      " 2   gender  9780 non-null   object\n",
      " 3   race    9780 non-null   object\n",
      "dtypes: object(4)\n",
      "memory usage: 305.8+ KB\n"
     ]
    }
   ],
   "source": [
    "data_und.info()"
   ]
  },
  {
   "cell_type": "code",
   "execution_count": 62,
   "metadata": {},
   "outputs": [
    {
     "data": {
      "text/plain": [
       "'There are 0 duplicates in the dataframe'"
      ]
     },
     "execution_count": 62,
     "metadata": {},
     "output_type": "execute_result"
    }
   ],
   "source": [
    "data_und.duplicates"
   ]
  },
  {
   "cell_type": "code",
   "execution_count": 63,
   "metadata": {},
   "outputs": [
    {
     "data": {
      "text/plain": [
       "image     0\n",
       "age       0\n",
       "gender    0\n",
       "race      0\n",
       "dtype: int64"
      ]
     },
     "execution_count": 63,
     "metadata": {},
     "output_type": "execute_result"
    }
   ],
   "source": [
    "data_und.missing"
   ]
  },
  {
   "cell_type": "code",
   "execution_count": 64,
   "metadata": {},
   "outputs": [
    {
     "data": {
      "text/plain": [
       "image     object\n",
       "age       object\n",
       "gender    object\n",
       "race      object\n",
       "dtype: object"
      ]
     },
     "execution_count": 64,
     "metadata": {},
     "output_type": "execute_result"
    }
   ],
   "source": [
    "data_und.types"
   ]
  },
  {
   "attachments": {},
   "cell_type": "markdown",
   "metadata": {},
   "source": [
    "### The value counts for the columns"
   ]
  },
  {
   "cell_type": "code",
   "execution_count": 65,
   "metadata": {},
   "outputs": [
    {
     "data": {
      "text/plain": [
       "1      1112\n",
       "2       475\n",
       "3       284\n",
       "26      279\n",
       "4       260\n",
       "       ... \n",
       "110       2\n",
       "99        2\n",
       "100       2\n",
       "91        1\n",
       "101       1\n",
       "Name: age, Length: 99, dtype: int64"
      ]
     },
     "execution_count": 65,
     "metadata": {},
     "output_type": "execute_result"
    }
   ],
   "source": [
    "data_und.counts(\"age\")"
   ]
  },
  {
   "cell_type": "code",
   "execution_count": 66,
   "metadata": {},
   "outputs": [
    {
     "data": {
      "text/plain": [
       "1    5407\n",
       "0    4372\n",
       "3       1\n",
       "Name: gender, dtype: int64"
      ]
     },
     "execution_count": 66,
     "metadata": {},
     "output_type": "execute_result"
    }
   ],
   "source": [
    "data_und.counts(\"gender\")"
   ]
  },
  {
   "cell_type": "code",
   "execution_count": 67,
   "metadata": {},
   "outputs": [
    {
     "data": {
      "text/plain": [
       "0                                 5265\n",
       "2                                 1553\n",
       "3                                 1452\n",
       "4                                 1103\n",
       "1                                  405\n",
       "20170109142408075.jpg.chip.jpg       1\n",
       "20170109150557335.jpg.chip.jpg       1\n",
       "Name: race, dtype: int64"
      ]
     },
     "execution_count": 67,
     "metadata": {},
     "output_type": "execute_result"
    }
   ],
   "source": [
    "data_und.counts(\"race\")"
   ]
  },
  {
   "attachments": {},
   "cell_type": "markdown",
   "metadata": {},
   "source": [
    "## Data Preparation"
   ]
  },
  {
   "cell_type": "code",
   "execution_count": 68,
   "metadata": {},
   "outputs": [
    {
     "data": {
      "text/plain": [
       "'The shape is: (9778, 4) with 9778 records and 4 columns'"
      ]
     },
     "execution_count": 68,
     "metadata": {},
     "output_type": "execute_result"
    }
   ],
   "source": [
    "# Dropping row where the gender==3 and races are not integers between 0 and 4 inclusive\n",
    "# df = df[df[\"gender\"]!=3]\n",
    "df = df.loc[df[\"race\"].isin([\"0\",\"1\",\"2\",\"3\",\"4\"]) & (df[\"gender\"] != \"3\")]\n",
    "\n",
    "data_und= DataUnderstanding(df)\n",
    "data_und.shape"
   ]
  },
  {
   "cell_type": "code",
   "execution_count": 69,
   "metadata": {},
   "outputs": [
    {
     "data": {
      "text/plain": [
       "1    5406\n",
       "0    4372\n",
       "Name: gender, dtype: int64"
      ]
     },
     "execution_count": 69,
     "metadata": {},
     "output_type": "execute_result"
    }
   ],
   "source": [
    "data_und.counts(\"gender\",df=df)"
   ]
  },
  {
   "cell_type": "code",
   "execution_count": 70,
   "metadata": {},
   "outputs": [
    {
     "data": {
      "text/plain": [
       "0    5265\n",
       "2    1553\n",
       "3    1452\n",
       "4    1103\n",
       "1     405\n",
       "Name: race, dtype: int64"
      ]
     },
     "execution_count": 70,
     "metadata": {},
     "output_type": "execute_result"
    }
   ],
   "source": [
    "data_und.counts(\"race\",df=df)"
   ]
  },
  {
   "cell_type": "code",
   "execution_count": 71,
   "metadata": {},
   "outputs": [
    {
     "data": {
      "text/plain": [
       "'There are 0 duplicates in the dataframe'"
      ]
     },
     "execution_count": 71,
     "metadata": {},
     "output_type": "execute_result"
    }
   ],
   "source": [
    "data_und.duplicates"
   ]
  },
  {
   "cell_type": "code",
   "execution_count": 72,
   "metadata": {},
   "outputs": [
    {
     "data": {
      "text/html": [
       "<div>\n",
       "<style scoped>\n",
       "    .dataframe tbody tr th:only-of-type {\n",
       "        vertical-align: middle;\n",
       "    }\n",
       "\n",
       "    .dataframe tbody tr th {\n",
       "        vertical-align: top;\n",
       "    }\n",
       "\n",
       "    .dataframe thead th {\n",
       "        text-align: right;\n",
       "    }\n",
       "</style>\n",
       "<table border=\"1\" class=\"dataframe\">\n",
       "  <thead>\n",
       "    <tr style=\"text-align: right;\">\n",
       "      <th></th>\n",
       "      <th>image</th>\n",
       "      <th>age</th>\n",
       "      <th>gender</th>\n",
       "      <th>race</th>\n",
       "    </tr>\n",
       "  </thead>\n",
       "  <tbody>\n",
       "    <tr>\n",
       "      <th>0</th>\n",
       "      <td>100_1_0_20170110183726390.jpg.chip.jpg</td>\n",
       "      <td>100</td>\n",
       "      <td>1</td>\n",
       "      <td>0</td>\n",
       "    </tr>\n",
       "    <tr>\n",
       "      <th>1</th>\n",
       "      <td>100_1_2_20170105174847679.jpg.chip.jpg</td>\n",
       "      <td>100</td>\n",
       "      <td>1</td>\n",
       "      <td>2</td>\n",
       "    </tr>\n",
       "    <tr>\n",
       "      <th>2</th>\n",
       "      <td>101_1_2_20170105174739309.jpg.chip.jpg</td>\n",
       "      <td>101</td>\n",
       "      <td>1</td>\n",
       "      <td>2</td>\n",
       "    </tr>\n",
       "    <tr>\n",
       "      <th>3</th>\n",
       "      <td>10_0_0_20161220222308131.jpg.chip.jpg</td>\n",
       "      <td>10</td>\n",
       "      <td>0</td>\n",
       "      <td>0</td>\n",
       "    </tr>\n",
       "    <tr>\n",
       "      <th>4</th>\n",
       "      <td>10_0_0_20170103200329407.jpg.chip.jpg</td>\n",
       "      <td>10</td>\n",
       "      <td>0</td>\n",
       "      <td>0</td>\n",
       "    </tr>\n",
       "    <tr>\n",
       "      <th>5</th>\n",
       "      <td>10_0_0_20170103200522151.jpg.chip.jpg</td>\n",
       "      <td>10</td>\n",
       "      <td>0</td>\n",
       "      <td>0</td>\n",
       "    </tr>\n",
       "    <tr>\n",
       "      <th>6</th>\n",
       "      <td>10_0_0_20170103233459275.jpg.chip.jpg</td>\n",
       "      <td>10</td>\n",
       "      <td>0</td>\n",
       "      <td>0</td>\n",
       "    </tr>\n",
       "    <tr>\n",
       "      <th>7</th>\n",
       "      <td>10_0_0_20170104013211746.jpg.chip.jpg</td>\n",
       "      <td>10</td>\n",
       "      <td>0</td>\n",
       "      <td>0</td>\n",
       "    </tr>\n",
       "    <tr>\n",
       "      <th>8</th>\n",
       "      <td>10_0_0_20170110215927291.jpg.chip.jpg</td>\n",
       "      <td>10</td>\n",
       "      <td>0</td>\n",
       "      <td>0</td>\n",
       "    </tr>\n",
       "    <tr>\n",
       "      <th>9</th>\n",
       "      <td>10_0_0_20170110220033115.jpg.chip.jpg</td>\n",
       "      <td>10</td>\n",
       "      <td>0</td>\n",
       "      <td>0</td>\n",
       "    </tr>\n",
       "  </tbody>\n",
       "</table>\n",
       "</div>"
      ],
      "text/plain": [
       "                                    image  age  gender  race\n",
       "0  100_1_0_20170110183726390.jpg.chip.jpg  100       1     0\n",
       "1  100_1_2_20170105174847679.jpg.chip.jpg  100       1     2\n",
       "2  101_1_2_20170105174739309.jpg.chip.jpg  101       1     2\n",
       "3   10_0_0_20161220222308131.jpg.chip.jpg   10       0     0\n",
       "4   10_0_0_20170103200329407.jpg.chip.jpg   10       0     0\n",
       "5   10_0_0_20170103200522151.jpg.chip.jpg   10       0     0\n",
       "6   10_0_0_20170103233459275.jpg.chip.jpg   10       0     0\n",
       "7   10_0_0_20170104013211746.jpg.chip.jpg   10       0     0\n",
       "8   10_0_0_20170110215927291.jpg.chip.jpg   10       0     0\n",
       "9   10_0_0_20170110220033115.jpg.chip.jpg   10       0     0"
      ]
     },
     "execution_count": 72,
     "metadata": {},
     "output_type": "execute_result"
    }
   ],
   "source": [
    "# Proper object types\n",
    "convert_dict = {'age': int,\n",
    "                'gender': int,\n",
    "                \"race\": int\n",
    "                }\n",
    " \n",
    "df = df.astype(convert_dict)\n",
    "df.head(10)"
   ]
  },
  {
   "cell_type": "code",
   "execution_count": 73,
   "metadata": {},
   "outputs": [
    {
     "name": "stdout",
     "output_type": "stream",
     "text": [
      "<class 'pandas.core.frame.DataFrame'>\n",
      "Int64Index: 9778 entries, 0 to 9779\n",
      "Data columns (total 4 columns):\n",
      " #   Column  Non-Null Count  Dtype \n",
      "---  ------  --------------  ----- \n",
      " 0   image   9778 non-null   object\n",
      " 1   age     9778 non-null   int32 \n",
      " 2   gender  9778 non-null   int32 \n",
      " 3   race    9778 non-null   int32 \n",
      "dtypes: int32(3), object(1)\n",
      "memory usage: 267.4+ KB\n"
     ]
    }
   ],
   "source": [
    "df.info()"
   ]
  },
  {
   "attachments": {},
   "cell_type": "markdown",
   "metadata": {},
   "source": [
    "## Exploratory Data Analysis"
   ]
  },
  {
   "cell_type": "code",
   "execution_count": 74,
   "metadata": {},
   "outputs": [],
   "source": [
    "# EDA class\n",
    "class EdaAnalysis:    \n",
    "    def univariate(self,df,col1,labels_dict=None):\n",
    "        \"\"\" A function that does univariate analysis\"\"\"\n",
    "        plt.figure(figsize=(16,8))\n",
    "        sns.countplot(x=col1,data=df, palette='colorblind')\n",
    "        plt.title(f'No of images per {col1}')\n",
    "        plt.xlabel(col1)\n",
    "        plt.xticks(rotation=45)\n",
    "        handles = [Patch(color=color, label=labels_dict[key]) for key, color in zip(labels_dict.keys(), sns.color_palette(\"colorblind\", len(labels_dict))) ]\n",
    "        plt.legend(handles=handles)\n",
    "        \n",
    "        \n",
    "    def bivariate(self,df,col1, col2):\n",
    "        \"\"\" A function that does bivariate analysis\"\"\"\n",
    "        plt.figure(figsize=(16,8))\n",
    "        sns.countplot(x=col1, data= df,hue=col2)\n",
    "        plt.title(f'{col1} on {col2}')\n",
    "        plt.ylabel(f'count of {col1}')\n",
    "        plt.legend(title=col2)\n",
    "        \n",
    "        \n",
    "    def multivariate_analysis(self, df):\n",
    "      \n",
    "        \"\"\"Perform multivariate analysis on the data\"\"\"\n",
    "        # Calculate the pairwise Pearson correlation coefficients for all columns\n",
    "        corr_matrix = df.corr()\n",
    "        # Plot a heatmap to visualize the correlations\n",
    "        sns.heatmap(corr_matrix)"
   ]
  },
  {
   "cell_type": "code",
   "execution_count": 75,
   "metadata": {},
   "outputs": [],
   "source": [
    "# Initialize the EDA class\n",
    "plot = EdaAnalysis()"
   ]
  },
  {
   "attachments": {},
   "cell_type": "markdown",
   "metadata": {},
   "source": [
    "### Univariate Analysis"
   ]
  },
  {
   "cell_type": "code",
   "execution_count": 76,
   "metadata": {},
   "outputs": [
    {
     "data": {
      "image/png": "[encoded data removed]",
      "text/plain": [
       "<Figure size 1600x800 with 1 Axes>"
      ]
     },
     "metadata": {},
     "output_type": "display_data"
    }
   ],
   "source": [
    "plot.univariate(df,\"race\",{0:\"White\",\n",
    "                        1:\"Black\",\n",
    "                        2:\"Asian\",\n",
    "                        3:\"Indian\",\n",
    "                        4:\"Others\"})"
   ]
  },
  {
   "cell_type": "code",
   "execution_count": 77,
   "metadata": {},
   "outputs": [
    {
     "data": {
      "image/png": "[encoded data removed]",
      "text/plain": [
       "<Figure size 1600x800 with 1 Axes>"
      ]
     },
     "metadata": {},
     "output_type": "display_data"
    }
   ],
   "source": [
    "plot.univariate(df,\"gender\",{0:\"male\",1:\"female\"})"
   ]
  },
  {
   "cell_type": "code",
   "execution_count": 78,
   "metadata": {},
   "outputs": [
    {
     "data": {
      "text/html": [
       "<div>\n",
       "<style scoped>\n",
       "    .dataframe tbody tr th:only-of-type {\n",
       "        vertical-align: middle;\n",
       "    }\n",
       "\n",
       "    .dataframe tbody tr th {\n",
       "        vertical-align: top;\n",
       "    }\n",
       "\n",
       "    .dataframe thead th {\n",
       "        text-align: right;\n",
       "    }\n",
       "</style>\n",
       "<table border=\"1\" class=\"dataframe\">\n",
       "  <thead>\n",
       "    <tr style=\"text-align: right;\">\n",
       "      <th></th>\n",
       "      <th>image</th>\n",
       "      <th>age</th>\n",
       "      <th>gender</th>\n",
       "      <th>race</th>\n",
       "      <th>age_binned</th>\n",
       "    </tr>\n",
       "  </thead>\n",
       "  <tbody>\n",
       "    <tr>\n",
       "      <th>0</th>\n",
       "      <td>100_1_0_20170110183726390.jpg.chip.jpg</td>\n",
       "      <td>100</td>\n",
       "      <td>1</td>\n",
       "      <td>0</td>\n",
       "      <td>90-100</td>\n",
       "    </tr>\n",
       "    <tr>\n",
       "      <th>1</th>\n",
       "      <td>100_1_2_20170105174847679.jpg.chip.jpg</td>\n",
       "      <td>100</td>\n",
       "      <td>1</td>\n",
       "      <td>2</td>\n",
       "      <td>90-100</td>\n",
       "    </tr>\n",
       "    <tr>\n",
       "      <th>2</th>\n",
       "      <td>101_1_2_20170105174739309.jpg.chip.jpg</td>\n",
       "      <td>101</td>\n",
       "      <td>1</td>\n",
       "      <td>2</td>\n",
       "      <td>100-110</td>\n",
       "    </tr>\n",
       "    <tr>\n",
       "      <th>3</th>\n",
       "      <td>10_0_0_20161220222308131.jpg.chip.jpg</td>\n",
       "      <td>10</td>\n",
       "      <td>0</td>\n",
       "      <td>0</td>\n",
       "      <td>0-10</td>\n",
       "    </tr>\n",
       "    <tr>\n",
       "      <th>4</th>\n",
       "      <td>10_0_0_20170103200329407.jpg.chip.jpg</td>\n",
       "      <td>10</td>\n",
       "      <td>0</td>\n",
       "      <td>0</td>\n",
       "      <td>0-10</td>\n",
       "    </tr>\n",
       "  </tbody>\n",
       "</table>\n",
       "</div>"
      ],
      "text/plain": [
       "                                    image  age  gender  race age_binned\n",
       "0  100_1_0_20170110183726390.jpg.chip.jpg  100       1     0     90-100\n",
       "1  100_1_2_20170105174847679.jpg.chip.jpg  100       1     2     90-100\n",
       "2  101_1_2_20170105174739309.jpg.chip.jpg  101       1     2    100-110\n",
       "3   10_0_0_20161220222308131.jpg.chip.jpg   10       0     0       0-10\n",
       "4   10_0_0_20170103200329407.jpg.chip.jpg   10       0     0       0-10"
      ]
     },
     "execution_count": 78,
     "metadata": {},
     "output_type": "execute_result"
    }
   ],
   "source": [
    "# Create the bins\n",
    "bins = range(0, 111, 10)\n",
    "\n",
    "# Create the names for the bins\n",
    "names = {group: f'{group * 10}-{(group + 1) * 10}' for group in range(0, 11)}.values()\n",
    "\n",
    "# Bin the data\n",
    "df['age_binned'] = pd.cut(df[\"age\"], bins, labels=names)\n",
    "df.head()"
   ]
  },
  {
   "cell_type": "code",
   "execution_count": 79,
   "metadata": {},
   "outputs": [
    {
     "data": {
      "image/png": "[encoded data removed]",
      "text/plain": [
       "<Figure size 1600x800 with 1 Axes>"
      ]
     },
     "metadata": {},
     "output_type": "display_data"
    }
   ],
   "source": [
    "plot.univariate(df, 'age_binned',{group: f'{group * 10}-{(group + 1) * 10}' for group in range(0, 11)})"
   ]
  },
  {
   "attachments": {},
   "cell_type": "markdown",
   "metadata": {},
   "source": [
    "### Bivariate Analysis"
   ]
  },
  {
   "cell_type": "code",
   "execution_count": null,
   "metadata": {},
   "outputs": [],
   "source": []
  },
  {
   "attachments": {},
   "cell_type": "markdown",
   "metadata": {},
   "source": [
    "## Data Preprocessing"
   ]
  },
  {
   "cell_type": "code",
   "execution_count": 80,
   "metadata": {},
   "outputs": [],
   "source": [
    "import glob\n",
    "from sklearn.model_selection import train_test_split\n",
    "from keras.utils import load_img, to_categorical\n"
   ]
  },
  {
   "cell_type": "code",
   "execution_count": 81,
   "metadata": {},
   "outputs": [],
   "source": [
    "data_dir = os.getcwd()\n",
    "file_pattern = os.path.join(data_dir, \"data\", \"UTKFace\",\"*.jpg\")\n",
    "file_names = glob.glob(file_pattern)"
   ]
  },
  {
   "cell_type": "code",
   "execution_count": 82,
   "metadata": {},
   "outputs": [
    {
     "name": "stdout",
     "output_type": "stream",
     "text": [
      "\n",
      "    Number of training images: 7824\n",
      "    Number of validation images: 1956\n",
      "\n"
     ]
    }
   ],
   "source": [
    "# Split the filenames into training and test sets\n",
    "train_set, val_set = train_test_split(file_names, test_size=0.2, random_state=230)\n",
    "print(\"\"\"\n",
    "    Number of training images: {}\n",
    "    Number of validation images: {}\n",
    "\"\"\".format(len(train_set),len(val_set)))"
   ]
  },
  {
   "cell_type": "code",
   "execution_count": 83,
   "metadata": {},
   "outputs": [
    {
     "data": {
      "text/plain": [
       "Index(['image', 'age', 'gender', 'race', 'age_binned'], dtype='object')"
      ]
     },
     "execution_count": 83,
     "metadata": {},
     "output_type": "execute_result"
    }
   ],
   "source": [
    "df.columns"
   ]
  },
  {
   "cell_type": "code",
   "execution_count": 84,
   "metadata": {},
   "outputs": [
    {
     "data": {
      "text/plain": [
       "2"
      ]
     },
     "execution_count": 84,
     "metadata": {},
     "output_type": "execute_result"
    }
   ],
   "source": [
    "len(df.gender.value_counts())"
   ]
  },
  {
   "cell_type": "code",
   "execution_count": 85,
   "metadata": {},
   "outputs": [],
   "source": [
    "IM_WIDTH = IM_HEIGHT = 198"
   ]
  },
  {
   "cell_type": "code",
   "execution_count": 86,
   "metadata": {},
   "outputs": [],
   "source": [
    "def generate_images(image_idx, is_training, batch_size=16):     \n",
    "    images, ages, races, genders = [], [], [], []\n",
    "    while True:\n",
    "        for idx in image_idx:\n",
    "            person = df.iloc[idx]\n",
    "\n",
    "            age = person['age']\n",
    "            race = person['race']\n",
    "            gender = person['gender']\n",
    "            file = person['image']\n",
    "            \n",
    "            im = Image.open(file)\n",
    "            im = im.resize((IM_WIDTH, IM_HEIGHT))\n",
    "            im = np.array(im) / 255.0\n",
    "            \n",
    "            ages.append(age / df.age.max())\n",
    "            races.append(to_categorical(race, len(df.race.value_counts())))\n",
    "            genders.append(to_categorical(gender, len(df.gender.value_counts())))\n",
    "            images.append(im)\n",
    "            \n",
    "            if len(images) >= batch_size:\n",
    "                yield np.array(images), [np.array(ages), np.array(races), np.array(genders)]\n",
    "                images, ages, races, genders = [], [], [], []\n",
    "                \n",
    "        if not is_training:\n",
    "            break"
   ]
  },
  {
   "attachments": {},
   "cell_type": "markdown",
   "metadata": {},
   "source": [
    "### CNN Model built in a MultiTasking Manner"
   ]
  },
  {
   "cell_type": "code",
   "execution_count": 94,
   "metadata": {},
   "outputs": [],
   "source": [
    "import tensorflow as tf\n",
    "from keras.models import Model\n",
    "from keras import Sequential\n",
    "from keras.layers import BatchNormalization,Conv2D,MaxPooling2D,Activation,Dropout,Lambda,Dense,Flatten,Input\n",
    "from keras.losses import SparseCategoricalCrossentropy\n",
    "from keras.utils.vis_utils import plot_model\n",
    "from keras.optimizers import Adam\n",
    "from keras.callbacks import ModelCheckpoint, EarlyStopping\n",
    "from livelossplot import PlotLossesKerasTF\n"
   ]
  },
  {
   "cell_type": "code",
   "execution_count": 88,
   "metadata": {},
   "outputs": [],
   "source": [
    "input_shape = (128, 128, 3)"
   ]
  },
  {
   "cell_type": "code",
   "execution_count": 89,
   "metadata": {},
   "outputs": [],
   "source": [
    "class UtkMultiOutputModel():\n",
    "    def make_default_hidden_layers(self, inputs):\n",
    "        x = Conv2D(16, (3, 3), padding=\"same\")(inputs)\n",
    "        x = Activation(\"relu\")(x)\n",
    "        x = BatchNormalization(axis=-1)(x)\n",
    "        x = MaxPooling2D(pool_size=(3, 3))(x)\n",
    "        x = Dropout(0.25)(x)        \n",
    "        x = Conv2D(32, (3, 3), padding=\"same\")(x)\n",
    "        x = Activation(\"relu\")(x)\n",
    "        x = BatchNormalization(axis=-1)(x)\n",
    "        x = MaxPooling2D(pool_size=(2, 2))(x)\n",
    "        x = Dropout(0.25)(x)        \n",
    "        x = Conv2D(32, (3, 3), padding=\"same\")(x)\n",
    "        x = Activation(\"relu\")(x)\n",
    "        x = BatchNormalization(axis=-1)(x)\n",
    "        x = MaxPooling2D(pool_size=(2, 2))(x)\n",
    "        x = Dropout(0.25)(x)        \n",
    "        return x  \n",
    "       \n",
    "    def build_race_branch(self, inputs, num_races):\n",
    "        x = self.make_default_hidden_layers(inputs)        \n",
    "        x = Flatten()(x)\n",
    "        x = Dense(128)(x)\n",
    "        x = Activation(\"relu\")(x)\n",
    "        x = BatchNormalization()(x)\n",
    "        x = Dropout(0.5)(x)\n",
    "        x = Dense(num_races)(x)\n",
    "        x = Activation(\"softmax\", name=\"race_output\")(x)        \n",
    "        return x  \n",
    "    \n",
    "    def build_gender_branch(self, inputs, num_genders=2): \n",
    "        x = Lambda(lambda c: tf.image.rgb_to_grayscale(c))(inputs)        \n",
    "        x = self.make_default_hidden_layers(inputs)        \n",
    "        x = Flatten()(x)\n",
    "        x = Dense(128)(x)\n",
    "        x = Activation(\"relu\")(x)\n",
    "        x = BatchNormalization()(x)\n",
    "        x = Dropout(0.5)(x)\n",
    "        x = Dense(num_genders)(x)\n",
    "        x = Activation(\"sigmoid\", name=\"gender_output\")(x)        \n",
    "        return x  \n",
    "\n",
    "    def build_age_branch(self, inputs):            \n",
    "        x = self.make_default_hidden_layers(inputs)        \n",
    "        x = Flatten()(x)\n",
    "        x = Dense(128)(x)\n",
    "        x = Activation(\"relu\")(x)\n",
    "        x = BatchNormalization()(x)\n",
    "        x = Dropout(0.5)(x)\n",
    "        x = Dense(1)(x)\n",
    "        x = Activation(\"linear\", name=\"age_output\")(x)        \n",
    "        return x \n",
    "    \n",
    "    def assemble_full_model(self, width, height, num_races):       \n",
    "        input_shape = (height, width, 3)        \n",
    "        inputs = Input(shape=input_shape)        \n",
    "        age_branch = self.build_age_branch(inputs)\n",
    "        race_branch = self.build_race_branch(inputs, num_races)\n",
    "        gender_branch = self.build_gender_branch(inputs)        \n",
    "        model = Model(inputs=inputs,\n",
    "                     outputs = [age_branch, race_branch, gender_branch],\n",
    "                     name=\"face_net\")        \n",
    "        return model"
   ]
  },
  {
   "cell_type": "code",
   "execution_count": 90,
   "metadata": {},
   "outputs": [],
   "source": [
    "model = UtkMultiOutputModel().assemble_full_model(IM_WIDTH, IM_HEIGHT, num_races=len(df.race.value_counts()))"
   ]
  },
  {
   "cell_type": "code",
   "execution_count": 91,
   "metadata": {},
   "outputs": [
    {
     "name": "stdout",
     "output_type": "stream",
     "text": [
      "Model: \"face_net\"\n",
      "__________________________________________________________________________________________________\n",
      " Layer (type)                   Output Shape         Param #     Connected to                     \n",
      "==================================================================================================\n",
      " input_2 (InputLayer)           [(None, 198, 198, 3  0           []                               \n",
      "                                )]                                                                \n",
      "                                                                                                  \n",
      " conv2d_9 (Conv2D)              (None, 198, 198, 16  448         ['input_2[0][0]']                \n",
      "                                )                                                                 \n",
      "                                                                                                  \n",
      " conv2d_12 (Conv2D)             (None, 198, 198, 16  448         ['input_2[0][0]']                \n",
      "                                )                                                                 \n",
      "                                                                                                  \n",
      " conv2d_15 (Conv2D)             (None, 198, 198, 16  448         ['input_2[0][0]']                \n",
      "                                )                                                                 \n",
      "                                                                                                  \n",
      " activation_12 (Activation)     (None, 198, 198, 16  0           ['conv2d_9[0][0]']               \n",
      "                                )                                                                 \n",
      "                                                                                                  \n",
      " activation_16 (Activation)     (None, 198, 198, 16  0           ['conv2d_12[0][0]']              \n",
      "                                )                                                                 \n",
      "                                                                                                  \n",
      " activation_20 (Activation)     (None, 198, 198, 16  0           ['conv2d_15[0][0]']              \n",
      "                                )                                                                 \n",
      "                                                                                                  \n",
      " batch_normalization_12 (BatchN  (None, 198, 198, 16  64         ['activation_12[0][0]']          \n",
      " ormalization)                  )                                                                 \n",
      "                                                                                                  \n",
      " batch_normalization_16 (BatchN  (None, 198, 198, 16  64         ['activation_16[0][0]']          \n",
      " ormalization)                  )                                                                 \n",
      "                                                                                                  \n",
      " batch_normalization_20 (BatchN  (None, 198, 198, 16  64         ['activation_20[0][0]']          \n",
      " ormalization)                  )                                                                 \n",
      "                                                                                                  \n",
      " max_pooling2d_9 (MaxPooling2D)  (None, 66, 66, 16)  0           ['batch_normalization_12[0][0]'] \n",
      "                                                                                                  \n",
      " max_pooling2d_12 (MaxPooling2D  (None, 66, 66, 16)  0           ['batch_normalization_16[0][0]'] \n",
      " )                                                                                                \n",
      "                                                                                                  \n",
      " max_pooling2d_15 (MaxPooling2D  (None, 66, 66, 16)  0           ['batch_normalization_20[0][0]'] \n",
      " )                                                                                                \n",
      "                                                                                                  \n",
      " dropout_12 (Dropout)           (None, 66, 66, 16)   0           ['max_pooling2d_9[0][0]']        \n",
      "                                                                                                  \n",
      " dropout_16 (Dropout)           (None, 66, 66, 16)   0           ['max_pooling2d_12[0][0]']       \n",
      "                                                                                                  \n",
      " dropout_20 (Dropout)           (None, 66, 66, 16)   0           ['max_pooling2d_15[0][0]']       \n",
      "                                                                                                  \n",
      " conv2d_10 (Conv2D)             (None, 66, 66, 32)   4640        ['dropout_12[0][0]']             \n",
      "                                                                                                  \n",
      " conv2d_13 (Conv2D)             (None, 66, 66, 32)   4640        ['dropout_16[0][0]']             \n",
      "                                                                                                  \n",
      " conv2d_16 (Conv2D)             (None, 66, 66, 32)   4640        ['dropout_20[0][0]']             \n",
      "                                                                                                  \n",
      " activation_13 (Activation)     (None, 66, 66, 32)   0           ['conv2d_10[0][0]']              \n",
      "                                                                                                  \n",
      " activation_17 (Activation)     (None, 66, 66, 32)   0           ['conv2d_13[0][0]']              \n",
      "                                                                                                  \n",
      " activation_21 (Activation)     (None, 66, 66, 32)   0           ['conv2d_16[0][0]']              \n",
      "                                                                                                  \n",
      " batch_normalization_13 (BatchN  (None, 66, 66, 32)  128         ['activation_13[0][0]']          \n",
      " ormalization)                                                                                    \n",
      "                                                                                                  \n",
      " batch_normalization_17 (BatchN  (None, 66, 66, 32)  128         ['activation_17[0][0]']          \n",
      " ormalization)                                                                                    \n",
      "                                                                                                  \n",
      " batch_normalization_21 (BatchN  (None, 66, 66, 32)  128         ['activation_21[0][0]']          \n",
      " ormalization)                                                                                    \n",
      "                                                                                                  \n",
      " max_pooling2d_10 (MaxPooling2D  (None, 33, 33, 32)  0           ['batch_normalization_13[0][0]'] \n",
      " )                                                                                                \n",
      "                                                                                                  \n",
      " max_pooling2d_13 (MaxPooling2D  (None, 33, 33, 32)  0           ['batch_normalization_17[0][0]'] \n",
      " )                                                                                                \n",
      "                                                                                                  \n",
      " max_pooling2d_16 (MaxPooling2D  (None, 33, 33, 32)  0           ['batch_normalization_21[0][0]'] \n",
      " )                                                                                                \n",
      "                                                                                                  \n",
      " dropout_13 (Dropout)           (None, 33, 33, 32)   0           ['max_pooling2d_10[0][0]']       \n",
      "                                                                                                  \n",
      " dropout_17 (Dropout)           (None, 33, 33, 32)   0           ['max_pooling2d_13[0][0]']       \n",
      "                                                                                                  \n",
      " dropout_21 (Dropout)           (None, 33, 33, 32)   0           ['max_pooling2d_16[0][0]']       \n",
      "                                                                                                  \n",
      " conv2d_11 (Conv2D)             (None, 33, 33, 32)   9248        ['dropout_13[0][0]']             \n",
      "                                                                                                  \n",
      " conv2d_14 (Conv2D)             (None, 33, 33, 32)   9248        ['dropout_17[0][0]']             \n",
      "                                                                                                  \n",
      " conv2d_17 (Conv2D)             (None, 33, 33, 32)   9248        ['dropout_21[0][0]']             \n",
      "                                                                                                  \n",
      " activation_14 (Activation)     (None, 33, 33, 32)   0           ['conv2d_11[0][0]']              \n",
      "                                                                                                  \n",
      " activation_18 (Activation)     (None, 33, 33, 32)   0           ['conv2d_14[0][0]']              \n",
      "                                                                                                  \n",
      " activation_22 (Activation)     (None, 33, 33, 32)   0           ['conv2d_17[0][0]']              \n",
      "                                                                                                  \n",
      " batch_normalization_14 (BatchN  (None, 33, 33, 32)  128         ['activation_14[0][0]']          \n",
      " ormalization)                                                                                    \n",
      "                                                                                                  \n",
      " batch_normalization_18 (BatchN  (None, 33, 33, 32)  128         ['activation_18[0][0]']          \n",
      " ormalization)                                                                                    \n",
      "                                                                                                  \n",
      " batch_normalization_22 (BatchN  (None, 33, 33, 32)  128         ['activation_22[0][0]']          \n",
      " ormalization)                                                                                    \n",
      "                                                                                                  \n",
      " max_pooling2d_11 (MaxPooling2D  (None, 16, 16, 32)  0           ['batch_normalization_14[0][0]'] \n",
      " )                                                                                                \n",
      "                                                                                                  \n",
      " max_pooling2d_14 (MaxPooling2D  (None, 16, 16, 32)  0           ['batch_normalization_18[0][0]'] \n",
      " )                                                                                                \n",
      "                                                                                                  \n",
      " max_pooling2d_17 (MaxPooling2D  (None, 16, 16, 32)  0           ['batch_normalization_22[0][0]'] \n",
      " )                                                                                                \n",
      "                                                                                                  \n",
      " dropout_14 (Dropout)           (None, 16, 16, 32)   0           ['max_pooling2d_11[0][0]']       \n",
      "                                                                                                  \n",
      " dropout_18 (Dropout)           (None, 16, 16, 32)   0           ['max_pooling2d_14[0][0]']       \n",
      "                                                                                                  \n",
      " dropout_22 (Dropout)           (None, 16, 16, 32)   0           ['max_pooling2d_17[0][0]']       \n",
      "                                                                                                  \n",
      " flatten_3 (Flatten)            (None, 8192)         0           ['dropout_14[0][0]']             \n",
      "                                                                                                  \n",
      " flatten_4 (Flatten)            (None, 8192)         0           ['dropout_18[0][0]']             \n",
      "                                                                                                  \n",
      " flatten_5 (Flatten)            (None, 8192)         0           ['dropout_22[0][0]']             \n",
      "                                                                                                  \n",
      " dense_6 (Dense)                (None, 128)          1048704     ['flatten_3[0][0]']              \n",
      "                                                                                                  \n",
      " dense_8 (Dense)                (None, 128)          1048704     ['flatten_4[0][0]']              \n",
      "                                                                                                  \n",
      " dense_10 (Dense)               (None, 128)          1048704     ['flatten_5[0][0]']              \n",
      "                                                                                                  \n",
      " activation_15 (Activation)     (None, 128)          0           ['dense_6[0][0]']                \n",
      "                                                                                                  \n",
      " activation_19 (Activation)     (None, 128)          0           ['dense_8[0][0]']                \n",
      "                                                                                                  \n",
      " activation_23 (Activation)     (None, 128)          0           ['dense_10[0][0]']               \n",
      "                                                                                                  \n",
      " batch_normalization_15 (BatchN  (None, 128)         512         ['activation_15[0][0]']          \n",
      " ormalization)                                                                                    \n",
      "                                                                                                  \n",
      " batch_normalization_19 (BatchN  (None, 128)         512         ['activation_19[0][0]']          \n",
      " ormalization)                                                                                    \n",
      "                                                                                                  \n",
      " batch_normalization_23 (BatchN  (None, 128)         512         ['activation_23[0][0]']          \n",
      " ormalization)                                                                                    \n",
      "                                                                                                  \n",
      " dropout_15 (Dropout)           (None, 128)          0           ['batch_normalization_15[0][0]'] \n",
      "                                                                                                  \n",
      " dropout_19 (Dropout)           (None, 128)          0           ['batch_normalization_19[0][0]'] \n",
      "                                                                                                  \n",
      " dropout_23 (Dropout)           (None, 128)          0           ['batch_normalization_23[0][0]'] \n",
      "                                                                                                  \n",
      " dense_7 (Dense)                (None, 1)            129         ['dropout_15[0][0]']             \n",
      "                                                                                                  \n",
      " dense_9 (Dense)                (None, 5)            645         ['dropout_19[0][0]']             \n",
      "                                                                                                  \n",
      " dense_11 (Dense)               (None, 2)            258         ['dropout_23[0][0]']             \n",
      "                                                                                                  \n",
      " age_output (Activation)        (None, 1)            0           ['dense_7[0][0]']                \n",
      "                                                                                                  \n",
      " race_output (Activation)       (None, 5)            0           ['dense_9[0][0]']                \n",
      "                                                                                                  \n",
      " gender_output (Activation)     (None, 2)            0           ['dense_11[0][0]']               \n",
      "                                                                                                  \n",
      "==================================================================================================\n",
      "Total params: 3,192,648\n",
      "Trainable params: 3,191,400\n",
      "Non-trainable params: 1,248\n",
      "__________________________________________________________________________________________________\n"
     ]
    }
   ],
   "source": [
    "model.summary()"
   ]
  },
  {
   "cell_type": "code",
   "execution_count": 92,
   "metadata": {},
   "outputs": [
    {
     "name": "stdout",
     "output_type": "stream",
     "text": [
      "You must install pydot (`pip install pydot`) and install graphviz (see instructions at https://graphviz.gitlab.io/download/) for plot_model to work.\n"
     ]
    }
   ],
   "source": [
    "plot_model(model, show_shapes=True)"
   ]
  },
  {
   "cell_type": "code",
   "execution_count": 96,
   "metadata": {},
   "outputs": [],
   "source": [
    "init_lr = 1e-4\n",
    "epochs = 50"
   ]
  },
  {
   "cell_type": "code",
   "execution_count": 97,
   "metadata": {},
   "outputs": [],
   "source": [
    "opt = Adam(learning_rate=init_lr, decay=init_lr / epochs)\n",
    "model.compile(optimizer=opt, \n",
    "              loss={\n",
    "                  'age_output': 'mse',\n",
    "                  'gender_output': 'binary_crossentropy',\n",
    "                  'ethnicity_output': 'sparse_categorical_crossentropy'},\n",
    "              \n",
    "              loss_weights={\n",
    "                  'age_output': 4., \n",
    "                  'gender_output': 0.1,\n",
    "                  'ethnicity_output': 1.5},\n",
    "              \n",
    "              metrics={\n",
    "                  'age_output': 'mae', \n",
    "                  'gender_output': 'accuracy',\n",
    "                  'ethnicity_output': 'accuracy'})"
   ]
  },
  {
   "attachments": {},
   "cell_type": "markdown",
   "metadata": {},
   "source": [
    "### Training the model"
   ]
  },
  {
   "cell_type": "code",
   "execution_count": null,
   "metadata": {},
   "outputs": [],
   "source": [
    "batch_size = 32\n",
    "valid_batch_size = 32"
   ]
  },
  {
   "cell_type": "code",
   "execution_count": null,
   "metadata": {},
   "outputs": [],
   "source": [
    "data_generator = UtkMultiOutputModel(df)\n",
    "train_gen = data_generator.generate_images(train_set, is_training=True, batch_size=batch_size)\n",
    "valid_gen = data_generator.generate_images(val_set, is_training=True, batch_size=valid_batch_size)\n",
    "checkpoint = ModelCheckpoint(\"Best_model_params.h5\", monitor='val_loss')\n",
    "callbacks = [PlotLossesKerasTF(), checkpoint]\n"
   ]
  },
  {
   "cell_type": "code",
   "execution_count": null,
   "metadata": {},
   "outputs": [],
   "source": [
    "history = model.fit(train_gen,\n",
    "                    steps_per_epoch=len(train_set)//batch_size,\n",
    "                    epochs=epochs,\n",
    "                    callbacks=callbacks,\n",
    "                    validation_data=valid_gen,\n",
    "                    validation_steps=len(val_set)//valid_batch_size)"
   ]
  }
 ],
 "metadata": {
  "kernelspec": {
   "display_name": "keras",
   "language": "python",
   "name": "python3"
  },
  "language_info": {
   "codemirror_mode": {
    "name": "ipython",
    "version": 3
   },
   "file_extension": ".py",
   "mimetype": "text/x-python",
   "name": "python",
   "nbconvert_exporter": "python",
   "pygments_lexer": "ipython3",
   "version": "3.9.16"
  },
  "orig_nbformat": 4,
  "vscode": {
   "interpreter": {
    "hash": "4a4a4d51e10779a0e3c2b6d95f02a0a92d8d1ab03252189148f7f24db5892908"
   }
  }
 },
 "nbformat": 4,
 "nbformat_minor": 2
}
